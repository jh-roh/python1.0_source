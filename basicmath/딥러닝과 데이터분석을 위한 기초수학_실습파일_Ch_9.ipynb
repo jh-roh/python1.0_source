{
 "cells": [
  {
   "cell_type": "code",
   "execution_count": null,
   "id": "eca628a5",
   "metadata": {},
   "outputs": [],
   "source": [
    "### Ch9_1"
   ]
  },
  {
   "cell_type": "code",
   "execution_count": 1,
   "id": "711ef93f",
   "metadata": {},
   "outputs": [],
   "source": [
    "### g(x)=3xe^x\n",
    "import numpy as np\n",
    "import matplotlib.pyplot as plt\n",
    "\n",
    "%matplotlib tk"
   ]
  },
  {
   "cell_type": "code",
   "execution_count": 2,
   "id": "d5812ff4",
   "metadata": {},
   "outputs": [],
   "source": [
    "x = np.linspace(-3,1,401)\n",
    "y = 3*x*np.exp(x)\n",
    "\n",
    "plt.plot(x,y)\n",
    "plt.show()"
   ]
  }
 ],
 "metadata": {
  "kernelspec": {
   "display_name": "Python 3 (ipykernel)",
   "language": "python",
   "name": "python3"
  },
  "language_info": {
   "codemirror_mode": {
    "name": "ipython",
    "version": 3
   },
   "file_extension": ".py",
   "mimetype": "text/x-python",
   "name": "python",
   "nbconvert_exporter": "python",
   "pygments_lexer": "ipython3",
   "version": "3.11.4"
  }
 },
 "nbformat": 4,
 "nbformat_minor": 5
}
