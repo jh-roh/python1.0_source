{
 "cells": [
  {
   "cell_type": "code",
   "execution_count": null,
   "id": "0852894c",
   "metadata": {},
   "outputs": [],
   "source": [
    "### Ch15_1"
   ]
  },
  {
   "cell_type": "code",
   "execution_count": null,
   "id": "1095e6a7",
   "metadata": {},
   "outputs": [],
   "source": [
    "### A=[[1,3,2],[5,-1,2]], B=[[0,3],[1,1],[4,-1]], AB=?, BA=?\n",
    "import numpy as np\n",
    "A = np.array([[1,3,2],\n",
    "              [5,-1,2]])\n",
    "B = np.array([[0,3],\n",
    "              [1,1],\n",
    "              [4,-1]])\n",
    "\n",
    "print(\"AB=\",A@B)\n",
    "print(\"BA=\",B@A)"
   ]
  },
  {
   "cell_type": "code",
   "execution_count": null,
   "id": "7caf01bf",
   "metadata": {},
   "outputs": [],
   "source": []
  },
  {
   "cell_type": "code",
   "execution_count": null,
   "id": "106d345f",
   "metadata": {},
   "outputs": [],
   "source": [
    "### Ch15_2"
   ]
  },
  {
   "cell_type": "code",
   "execution_count": null,
   "id": "d3d2026a",
   "metadata": {},
   "outputs": [],
   "source": [
    "### A=[[1,2],[3,4]], B=[[2,-8],[-1,4]], inv(A)=?, inv(B)=?\n",
    "import numpy as np\n",
    "A = np.array([[1,2],\n",
    "              [3,4]])\n",
    "print(\"inv(A)=\",np.linalg.inv(A))"
   ]
  },
  {
   "cell_type": "code",
   "execution_count": null,
   "id": "edeaa4de",
   "metadata": {},
   "outputs": [],
   "source": [
    "B = np.array([[2,-8],\n",
    "              [-1,4]])\n",
    "print(\"det(B)=\",np.linalg.det(B))"
   ]
  }
 ],
 "metadata": {
  "kernelspec": {
   "display_name": "Python 3 (ipykernel)",
   "language": "python",
   "name": "python3"
  },
  "language_info": {
   "codemirror_mode": {
    "name": "ipython",
    "version": 3
   },
   "file_extension": ".py",
   "mimetype": "text/x-python",
   "name": "python",
   "nbconvert_exporter": "python",
   "pygments_lexer": "ipython3",
   "version": "3.11.4"
  }
 },
 "nbformat": 4,
 "nbformat_minor": 5
}
