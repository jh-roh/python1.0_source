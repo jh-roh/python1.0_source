{
 "cells": [
  {
   "cell_type": "code",
   "execution_count": 2,
   "id": "092a9e0f",
   "metadata": {},
   "outputs": [],
   "source": [
    "### Ch2_1"
   ]
  },
  {
   "cell_type": "code",
   "execution_count": 5,
   "id": "23188518",
   "metadata": {},
   "outputs": [
    {
     "ename": "ModuleNotFoundError",
     "evalue": "No module named 'numpy'",
     "output_type": "error",
     "traceback": [
      "\u001b[31m---------------------------------------------------------------------------\u001b[39m",
      "\u001b[31mModuleNotFoundError\u001b[39m                       Traceback (most recent call last)",
      "\u001b[36mCell\u001b[39m\u001b[36m \u001b[39m\u001b[32mIn[5]\u001b[39m\u001b[32m, line 2\u001b[39m\n\u001b[32m      1\u001b[39m \u001b[38;5;66;03m### f(x)=x**2+3, g(x)=sqrt(x+1), (gof)(1), (fog)(1), (gog)(1)\u001b[39;00m\n\u001b[32m----> \u001b[39m\u001b[32m2\u001b[39m \u001b[38;5;28;01mimport\u001b[39;00m\u001b[38;5;250m \u001b[39m\u001b[34;01mnumpy\u001b[39;00m\u001b[38;5;250m \u001b[39m\u001b[38;5;28;01mas\u001b[39;00m\u001b[38;5;250m \u001b[39m\u001b[34;01mnp\u001b[39;00m\n",
      "\u001b[31mModuleNotFoundError\u001b[39m: No module named 'numpy'"
     ]
    }
   ],
   "source": [
    "### f(x)=x**2+3, g(x)=sqrt(x+1), (gof)(1), (fog)(1), (gog)(1)\n",
    "import numpy as np"
   ]
  },
  {
   "cell_type": "code",
   "execution_count": 6,
   "id": "2064aa8d",
   "metadata": {},
   "outputs": [],
   "source": [
    "# f(x)=x**2+3\n",
    "def f(x):\n",
    "    return x**2+3\n",
    "\n",
    "# g(x)=sqrt(x+1)\n",
    "def g(x):\n",
    "    return np.sqrt(x+1)"
   ]
  },
  {
   "cell_type": "code",
   "execution_count": 3,
   "id": "bb2dd7b8",
   "metadata": {},
   "outputs": [
    {
     "name": "stdout",
     "output_type": "stream",
     "text": [
      "(gof)(1)= 2.23606797749979\n",
      "(fog)(1)= 5.0\n",
      "(gog)(1)= 1.5537739740300374\n"
     ]
    }
   ],
   "source": [
    "print(\"(gof)(1)=\",g(f(1)))\n",
    "print(\"(fog)(1)=\",f(g(1)))\n",
    "print(\"(gog)(1)=\",g(g(1)))"
   ]
  },
  {
   "cell_type": "code",
   "execution_count": null,
   "id": "9897caa5",
   "metadata": {},
   "outputs": [],
   "source": []
  },
  {
   "cell_type": "code",
   "execution_count": null,
   "id": "916ab9c8",
   "metadata": {},
   "outputs": [],
   "source": [
    "### Ch2_2"
   ]
  },
  {
   "cell_type": "code",
   "execution_count": 4,
   "id": "189c556e",
   "metadata": {},
   "outputs": [],
   "source": [
    "### g(x)=2x**2-1 [0,2], ginv(x)=sqrt(0.5*(x+1)), [-1,2]\n",
    "import numpy as np\n",
    "import matplotlib.pyplot as plt\n",
    "\n",
    "%matplotlib tk"
   ]
  },
  {
   "cell_type": "code",
   "execution_count": 5,
   "id": "d423f6e0",
   "metadata": {},
   "outputs": [],
   "source": [
    "xg   = np.linspace(0,2,401)\n",
    "xginv= np.linspace(-1,2,401)\n",
    "xy   = np.linspace(-1,2,401)\n",
    "\n",
    "gx   = 2*xg**2-1\n",
    "ginvx= np.sqrt(0.5*(xginv+1))\n",
    "y    = xy\n",
    "\n",
    "plt.plot(xg,gx,'k')\n",
    "plt.plot(xginv,ginvx,'r')\n",
    "plt.plot(xy,y,'b')\n",
    "plt.ylim(-1,2)\n",
    "plt.show()"
   ]
  }
 ],
 "metadata": {
  "kernelspec": {
   "display_name": "Python 3 (ipykernel)",
   "language": "python",
   "name": "python3"
  },
  "language_info": {
   "codemirror_mode": {
    "name": "ipython",
    "version": 3
   },
   "file_extension": ".py",
   "mimetype": "text/x-python",
   "name": "python",
   "nbconvert_exporter": "python",
   "pygments_lexer": "ipython3",
   "version": "3.12.2"
  }
 },
 "nbformat": 4,
 "nbformat_minor": 5
}
