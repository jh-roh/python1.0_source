{
 "cells": [
  {
   "cell_type": "code",
   "execution_count": null,
   "id": "580689f3",
   "metadata": {},
   "outputs": [],
   "source": [
    "### Ch11_1"
   ]
  },
  {
   "cell_type": "code",
   "execution_count": null,
   "id": "420ec4c8",
   "metadata": {},
   "outputs": [],
   "source": [
    "### (3x+1)**4, [0,1] (3*x**2)*e**(x**3), [0,1]에서의 정적분\n",
    "import sympy as sp"
   ]
  },
  {
   "cell_type": "code",
   "execution_count": null,
   "id": "ac24435a",
   "metadata": {},
   "outputs": [],
   "source": [
    "x = sp.Symbol('x')\n",
    "fx=(3*x+1)**4\n",
    "gx=(3*x**2)*sp.exp(x**3)\n",
    "\n",
    "print(\"F=\",sp.integrate(fx,(x,0,1)))\n",
    "print(\"G=\",sp.integrate(gx,(x,0,1)))"
   ]
  },
  {
   "cell_type": "code",
   "execution_count": null,
   "id": "2c9043f2",
   "metadata": {},
   "outputs": [],
   "source": []
  },
  {
   "cell_type": "code",
   "execution_count": null,
   "id": "5ba57593",
   "metadata": {},
   "outputs": [],
   "source": [
    "### Ch11_2"
   ]
  },
  {
   "cell_type": "code",
   "execution_count": null,
   "id": "5f242c6b",
   "metadata": {},
   "outputs": [],
   "source": [
    "### logx, [1,e**3] xsin(x), [0,pi]에서의 정적분\n",
    "import sympy as sp"
   ]
  },
  {
   "cell_type": "code",
   "execution_count": null,
   "id": "5be127da",
   "metadata": {},
   "outputs": [],
   "source": [
    "x = sp.Symbol('x')\n",
    "fx= sp.log(x)\n",
    "gx= x*sp.sin(x)\n",
    "\n",
    "print(\"F=\",sp.integrate(fx,(x,1,sp.exp(3))))\n",
    "print(\"G=\",sp.integrate(gx,(x,0,sp.pi)))"
   ]
  }
 ],
 "metadata": {
  "kernelspec": {
   "display_name": "Python 3 (ipykernel)",
   "language": "python",
   "name": "python3"
  },
  "language_info": {
   "codemirror_mode": {
    "name": "ipython",
    "version": 3
   },
   "file_extension": ".py",
   "mimetype": "text/x-python",
   "name": "python",
   "nbconvert_exporter": "python",
   "pygments_lexer": "ipython3",
   "version": "3.11.4"
  }
 },
 "nbformat": 4,
 "nbformat_minor": 5
}
