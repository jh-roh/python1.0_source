{
 "cells": [
  {
   "cell_type": "code",
   "execution_count": null,
   "id": "ff84a830",
   "metadata": {},
   "outputs": [],
   "source": [
    "### Ch8_1"
   ]
  },
  {
   "cell_type": "code",
   "execution_count": null,
   "id": "08475b8b",
   "metadata": {},
   "outputs": [],
   "source": [
    "### f(x)=(x**3-2*x)**2\n",
    "### g(x)=cos(2x)**2\n",
    "### h(x)=e**(x**2+3)\n",
    "### k(x)=log(tan(x**2))\n",
    "import sympy as sp"
   ]
  },
  {
   "cell_type": "code",
   "execution_count": null,
   "id": "5a0dc9f1",
   "metadata": {},
   "outputs": [],
   "source": [
    "x = sp.Symbol('x')\n",
    "fx=(x**3-2*x)**2\n",
    "gx=(sp.cos(2*x))**2\n",
    "hx=sp.exp(x**2+3)\n",
    "kx=sp.log(sp.tan(x**2))\n",
    "\n",
    "print(\"f'(x)=\",sp.diff(fx,x))\n",
    "print(\"g'(x)=\",sp.diff(gx,x))\n",
    "print(\"h'(x)=\",sp.diff(hx,x))\n",
    "print(\"k'(x)=\",sp.diff(kx,x))"
   ]
  }
 ],
 "metadata": {
  "kernelspec": {
   "display_name": "Python 3 (ipykernel)",
   "language": "python",
   "name": "python3"
  },
  "language_info": {
   "codemirror_mode": {
    "name": "ipython",
    "version": 3
   },
   "file_extension": ".py",
   "mimetype": "text/x-python",
   "name": "python",
   "nbconvert_exporter": "python",
   "pygments_lexer": "ipython3",
   "version": "3.11.4"
  }
 },
 "nbformat": 4,
 "nbformat_minor": 5
}
