{
 "cells": [
  {
   "cell_type": "code",
   "execution_count": null,
   "id": "22f65656",
   "metadata": {},
   "outputs": [],
   "source": [
    "### Ch14_1"
   ]
  },
  {
   "cell_type": "code",
   "execution_count": null,
   "id": "85df0b1f",
   "metadata": {},
   "outputs": [],
   "source": [
    "### a=(2,4), b=(-1,2), a dot b=?\n",
    "import numpy as np\n",
    "\n",
    "a = np.array([2,4])\n",
    "b = np.array([-1,2])\n",
    "print(\"a dot b:\",np.dot(a,b))"
   ]
  },
  {
   "cell_type": "code",
   "execution_count": null,
   "id": "61463f85",
   "metadata": {},
   "outputs": [],
   "source": [
    "### a=(1,2,3), b=(3,0,-4), a dot b=?\n",
    "a = np.array([1,2,3])\n",
    "b = np.array([3,0,-4])\n",
    "print(\"a dot b:\",np.dot(a,b))"
   ]
  },
  {
   "cell_type": "code",
   "execution_count": null,
   "id": "cc849e25",
   "metadata": {},
   "outputs": [],
   "source": []
  },
  {
   "cell_type": "code",
   "execution_count": null,
   "id": "dde102ff",
   "metadata": {},
   "outputs": [],
   "source": [
    "### Ch14_2"
   ]
  },
  {
   "cell_type": "code",
   "execution_count": null,
   "id": "2f525b54",
   "metadata": {},
   "outputs": [],
   "source": [
    "### a=(1,3,4), b=(1,2,-4), axb=?\n",
    "import numpy as np\n",
    "a = np.array([1,3,4])\n",
    "b = np.array([1,2,-4])\n",
    "\n",
    "print(\"axb=\",np.cross(a,b))"
   ]
  },
  {
   "cell_type": "code",
   "execution_count": null,
   "id": "1cb8bdc4",
   "metadata": {},
   "outputs": [],
   "source": [
    "### a=(2,1), b=(5,4), axb=?\n",
    "a = np.array([2,1])\n",
    "b = np.array([5,4])\n",
    "\n",
    "print(\"axb=\",np.cross(a,b))"
   ]
  }
 ],
 "metadata": {
  "kernelspec": {
   "display_name": "Python 3 (ipykernel)",
   "language": "python",
   "name": "python3"
  },
  "language_info": {
   "codemirror_mode": {
    "name": "ipython",
    "version": 3
   },
   "file_extension": ".py",
   "mimetype": "text/x-python",
   "name": "python",
   "nbconvert_exporter": "python",
   "pygments_lexer": "ipython3",
   "version": "3.11.4"
  }
 },
 "nbformat": 4,
 "nbformat_minor": 5
}
