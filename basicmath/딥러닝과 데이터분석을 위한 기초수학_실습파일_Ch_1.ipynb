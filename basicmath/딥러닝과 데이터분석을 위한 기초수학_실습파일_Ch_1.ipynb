{
 "cells": [
  {
   "cell_type": "code",
   "execution_count": null,
   "id": "0c1de179",
   "metadata": {},
   "outputs": [],
   "source": [
    "### Ch1_1"
   ]
  },
  {
   "cell_type": "code",
   "execution_count": 1,
   "id": "7d7ff74f",
   "metadata": {},
   "outputs": [],
   "source": [
    "### f(x)=2x-1, [-5], g(x)=sqrt(3x-2), [2/3.10]\n",
    "import numpy as np\n",
    "import matplotlib.pyplot as plt\n",
    "\n",
    "%matplotlib tk"
   ]
  },
  {
   "cell_type": "code",
   "execution_count": 2,
   "id": "71a36838",
   "metadata": {},
   "outputs": [],
   "source": [
    "# f(x)=2x-1\n",
    "a,b = -5,5\n",
    "N   = 1001\n",
    "xf  = np.linspace(a,b,N)\n",
    "fx  = 2*xf-1\n",
    "\n",
    "plt.plot(xf,fx)\n",
    "plt.show()"
   ]
  },
  {
   "cell_type": "code",
   "execution_count": 3,
   "id": "7d312f6b",
   "metadata": {},
   "outputs": [],
   "source": [
    "# g(x)=sqrt(3x-2)\n",
    "a,b = 2.0/3.0,10\n",
    "N   = 1001\n",
    "xg  = np.linspace(a,b,N)\n",
    "gx  = np.sqrt(3*xg-2)\n",
    "\n",
    "plt.plot(xg,gx)\n",
    "plt.show()"
   ]
  },
  {
   "cell_type": "code",
   "execution_count": null,
   "id": "b7d22b02",
   "metadata": {},
   "outputs": [],
   "source": []
  },
  {
   "cell_type": "code",
   "execution_count": null,
   "id": "92512229",
   "metadata": {},
   "outputs": [],
   "source": [
    "### Ch1_2"
   ]
  },
  {
   "cell_type": "code",
   "execution_count": 4,
   "id": "737ace04",
   "metadata": {},
   "outputs": [],
   "source": [
    "### y=2x**2+3, x->3, y->-2, [-15,15]\n",
    "import numpy as np \n",
    "import matplotlib.pyplot as plt\n",
    "\n",
    "%matplotlib tk"
   ]
  },
  {
   "cell_type": "code",
   "execution_count": 5,
   "id": "c2e7c67f",
   "metadata": {},
   "outputs": [],
   "source": [
    "x   = np.linspace(-15,15,1001)\n",
    "y   = 2*x**2+3\n",
    "yhat= 2*(x-3)**2+1\n",
    "\n",
    "plt.plot(x,y,'k')\n",
    "plt.plot(x,yhat,'r')\n",
    "plt.show()"
   ]
  }
 ],
 "metadata": {
  "kernelspec": {
   "display_name": "Python 3 (ipykernel)",
   "language": "python",
   "name": "python3"
  },
  "language_info": {
   "codemirror_mode": {
    "name": "ipython",
    "version": 3
   },
   "file_extension": ".py",
   "mimetype": "text/x-python",
   "name": "python",
   "nbconvert_exporter": "python",
   "pygments_lexer": "ipython3",
   "version": "3.11.4"
  }
 },
 "nbformat": 4,
 "nbformat_minor": 5
}
