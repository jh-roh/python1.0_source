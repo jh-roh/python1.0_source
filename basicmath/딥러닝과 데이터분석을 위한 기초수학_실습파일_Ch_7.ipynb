{
 "cells": [
  {
   "cell_type": "code",
   "execution_count": null,
   "id": "5facd0db",
   "metadata": {},
   "outputs": [],
   "source": [
    "### Ch7_1"
   ]
  },
  {
   "cell_type": "code",
   "execution_count": null,
   "id": "41910699",
   "metadata": {},
   "outputs": [],
   "source": [
    "### f(x)=x**2023-2023*x**2+2, g(x)=2*x/(x**2+1)\n",
    "import sympy as sp"
   ]
  },
  {
   "cell_type": "code",
   "execution_count": null,
   "id": "cc4a8e08",
   "metadata": {},
   "outputs": [],
   "source": [
    "x = sp.Symbol('x')\n",
    "fx=x**2023-2023*x**2+2\n",
    "gx=2*x/(x**2+1)\n",
    "\n",
    "print(\"f'(x)=\",sp.diff(fx,x))\n",
    "print(\"g'(x)=\",sp.simplify(sp.diff(gx,x)))"
   ]
  },
  {
   "cell_type": "code",
   "execution_count": null,
   "id": "451a9943",
   "metadata": {},
   "outputs": [],
   "source": []
  },
  {
   "cell_type": "code",
   "execution_count": null,
   "id": "e37cd756",
   "metadata": {},
   "outputs": [],
   "source": [
    "### Ch7_2"
   ]
  },
  {
   "cell_type": "code",
   "execution_count": null,
   "id": "2277fa36",
   "metadata": {},
   "outputs": [],
   "source": [
    "### f(x)=x**2*sin(x), g(x)=cos(x)*tan(x)\n",
    "import sympy as sp"
   ]
  },
  {
   "cell_type": "code",
   "execution_count": null,
   "id": "068460fe",
   "metadata": {},
   "outputs": [],
   "source": [
    "x = sp.Symbol('x')\n",
    "fx=(x**2)*sp.sin(x)\n",
    "gx=sp.cos(x)*sp.tan(x)\n",
    "\n",
    "print(\"f'(x)=\",sp.diff(fx,x))\n",
    "print(\"g'(x)=\",sp.diff(gx,x))"
   ]
  },
  {
   "cell_type": "code",
   "execution_count": null,
   "id": "41548eec",
   "metadata": {},
   "outputs": [],
   "source": []
  },
  {
   "cell_type": "code",
   "execution_count": null,
   "id": "e2b5bf25",
   "metadata": {},
   "outputs": [],
   "source": [
    "### Ch7_3"
   ]
  },
  {
   "cell_type": "code",
   "execution_count": null,
   "id": "d9ec2ce7",
   "metadata": {},
   "outputs": [],
   "source": [
    "### f(x)=xe^x, g(x)=x**2 logx+2*log_3(x)\n",
    "import sympy as sp"
   ]
  },
  {
   "cell_type": "code",
   "execution_count": null,
   "id": "928e28b5",
   "metadata": {},
   "outputs": [],
   "source": [
    "x = sp.Symbol('x')\n",
    "fx= x*sp.exp(x)\n",
    "gx= (x**2)*sp.log(x)+2*sp.log(x)/sp.log(3)\n",
    "\n",
    "print(\"f'(x)=\",sp.diff(fx,x))\n",
    "print(\"g'(x)=\",sp.diff(gx,x))"
   ]
  }
 ],
 "metadata": {
  "kernelspec": {
   "display_name": "Python 3 (ipykernel)",
   "language": "python",
   "name": "python3"
  },
  "language_info": {
   "codemirror_mode": {
    "name": "ipython",
    "version": 3
   },
   "file_extension": ".py",
   "mimetype": "text/x-python",
   "name": "python",
   "nbconvert_exporter": "python",
   "pygments_lexer": "ipython3",
   "version": "3.11.4"
  }
 },
 "nbformat": 4,
 "nbformat_minor": 5
}
