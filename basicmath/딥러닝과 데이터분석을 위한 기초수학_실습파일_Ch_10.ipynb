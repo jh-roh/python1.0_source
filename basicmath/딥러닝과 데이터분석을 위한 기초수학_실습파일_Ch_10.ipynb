{
 "cells": [
  {
   "cell_type": "code",
   "execution_count": null,
   "id": "e7fad07f",
   "metadata": {},
   "outputs": [],
   "source": [
    "### Ch10_1"
   ]
  },
  {
   "cell_type": "code",
   "execution_count": null,
   "id": "056d2b30",
   "metadata": {},
   "outputs": [],
   "source": [
    "### (2x-3)**3, sin(3x-1), (3x**2)*e**(x**3+3), 2tan(x)(sec(x))**2의 부정적분\n",
    "import sympy as sp"
   ]
  },
  {
   "cell_type": "code",
   "execution_count": null,
   "id": "efd8759f",
   "metadata": {},
   "outputs": [],
   "source": [
    "x = sp.Symbol('x')\n",
    "fx=(2*x-3)**3\n",
    "gx=sp.sin(3*x-1)\n",
    "hx=(3*x**2)*sp.exp(x**3+3)\n",
    "kx=2*sp.tan(x)*(1.0/sp.cos(x))**2\n",
    "\n",
    "print(\"F(x)=\",sp.integrate(fx,x))\n",
    "print(\"G(x)=\",sp.integrate(gx,x))\n",
    "print(\"H(x)=\",sp.integrate(hx,x))\n",
    "print(\"K(x)=\",sp.integrate(kx,x))"
   ]
  },
  {
   "cell_type": "code",
   "execution_count": null,
   "id": "9c82a0c4",
   "metadata": {},
   "outputs": [],
   "source": []
  },
  {
   "cell_type": "code",
   "execution_count": null,
   "id": "1a8db8b9",
   "metadata": {},
   "outputs": [],
   "source": [
    "### Ch10_2"
   ]
  },
  {
   "cell_type": "code",
   "execution_count": null,
   "id": "b4ec8530",
   "metadata": {},
   "outputs": [],
   "source": [
    "### xe**x, xlogx의 부정적분\n",
    "import sympy as sp"
   ]
  },
  {
   "cell_type": "code",
   "execution_count": null,
   "id": "34b54463",
   "metadata": {},
   "outputs": [],
   "source": [
    "x = sp.Symbol('x')\n",
    "fx=x*sp.exp(x)\n",
    "gx=x*sp.log(x)\n",
    "\n",
    "print(\"F(x)=\",sp.integrate(fx,x))\n",
    "print(\"G(x)=\",sp.integrate(gx,x))"
   ]
  }
 ],
 "metadata": {
  "kernelspec": {
   "display_name": "Python 3 (ipykernel)",
   "language": "python",
   "name": "python3"
  },
  "language_info": {
   "codemirror_mode": {
    "name": "ipython",
    "version": 3
   },
   "file_extension": ".py",
   "mimetype": "text/x-python",
   "name": "python",
   "nbconvert_exporter": "python",
   "pygments_lexer": "ipython3",
   "version": "3.11.4"
  }
 },
 "nbformat": 4,
 "nbformat_minor": 5
}
